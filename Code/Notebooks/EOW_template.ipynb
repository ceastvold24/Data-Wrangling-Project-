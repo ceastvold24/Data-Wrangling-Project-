{
 "cells": [
  {
   "cell_type": "markdown",
   "id": "8a26df02-3a1c-409e-85d1-0ef4eee05c9b",
   "metadata": {},
   "source": [
    "# EOW# - Camille Eastvold - Date "
   ]
  },
  {
   "cell_type": "code",
   "execution_count": null,
   "id": "f102c28d-5c44-41a3-aa5a-19a528effc84",
   "metadata": {},
   "outputs": [],
   "source": [
    "#import libraries "
   ]
  },
  {
   "cell_type": "code",
   "execution_count": null,
   "id": "41ecb0f0-21be-4936-9580-4bfac433abcb",
   "metadata": {},
   "outputs": [],
   "source": []
  },
  {
   "cell_type": "code",
   "execution_count": null,
   "id": "e72f5c30-cdfe-4291-8e44-488ee33adeb2",
   "metadata": {},
   "outputs": [],
   "source": []
  },
  {
   "cell_type": "code",
   "execution_count": null,
   "id": "aefafc09-3962-4748-a169-7fadcc38e2af",
   "metadata": {},
   "outputs": [],
   "source": []
  },
  {
   "cell_type": "code",
   "execution_count": null,
   "id": "0777208b-1cda-4df1-8315-59d6803e8f27",
   "metadata": {},
   "outputs": [],
   "source": []
  },
  {
   "cell_type": "code",
   "execution_count": null,
   "id": "fa156dc0-e596-4c57-89d2-ee768c23a0eb",
   "metadata": {},
   "outputs": [],
   "source": []
  },
  {
   "cell_type": "code",
   "execution_count": null,
   "id": "684a1c8d-6cc6-4684-97bb-b69b9bccf4e2",
   "metadata": {},
   "outputs": [],
   "source": []
  },
  {
   "cell_type": "code",
   "execution_count": null,
   "id": "15ef9425-8c62-448f-9df8-035cb75f7426",
   "metadata": {},
   "outputs": [],
   "source": []
  },
  {
   "cell_type": "code",
   "execution_count": null,
   "id": "e449c33c-6310-4d32-a447-e4f42dd777e5",
   "metadata": {},
   "outputs": [],
   "source": []
  },
  {
   "cell_type": "code",
   "execution_count": null,
   "id": "b6d2f354-f843-46e3-9448-b6637f8f763c",
   "metadata": {},
   "outputs": [],
   "source": []
  },
  {
   "cell_type": "code",
   "execution_count": null,
   "id": "14194bab-528c-486e-b564-dfb3a4c613b9",
   "metadata": {},
   "outputs": [],
   "source": []
  },
  {
   "cell_type": "code",
   "execution_count": null,
   "id": "78e8289b-60c6-4042-88e8-526d9cca0083",
   "metadata": {},
   "outputs": [],
   "source": []
  },
  {
   "cell_type": "code",
   "execution_count": null,
   "id": "54e8d17a-e5a4-4b22-ae57-a17d72670384",
   "metadata": {},
   "outputs": [],
   "source": []
  },
  {
   "cell_type": "code",
   "execution_count": null,
   "id": "ff1bbbc6-7a92-4047-9363-85cc5265e17d",
   "metadata": {},
   "outputs": [],
   "source": []
  },
  {
   "cell_type": "code",
   "execution_count": null,
   "id": "4cb74c57-dd2d-4d93-8182-c4b51ff06c00",
   "metadata": {},
   "outputs": [],
   "source": []
  }
 ],
 "metadata": {
  "kernelspec": {
   "display_name": "Python 3 (ipykernel)",
   "language": "python",
   "name": "python3"
  },
  "language_info": {
   "codemirror_mode": {
    "name": "ipython",
    "version": 3
   },
   "file_extension": ".py",
   "mimetype": "text/x-python",
   "name": "python",
   "nbconvert_exporter": "python",
   "pygments_lexer": "ipython3",
   "version": "3.12.4"
  }
 },
 "nbformat": 4,
 "nbformat_minor": 5
}
